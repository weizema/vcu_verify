{
 "cells": [
  {
   "cell_type": "code",
   "execution_count": null,
   "id": "82d9e594",
   "metadata": {},
   "outputs": [],
   "source": [
    "\n"
   ]
  },
  {
   "cell_type": "code",
   "execution_count": 6,
   "id": "26b97922",
   "metadata": {},
   "outputs": [
    {
     "name": "stdout",
     "output_type": "stream",
     "text": [
      "00000000000000000000000000000000000000000000000000000000101000011001000011100011110000000000000000000000000000000000000000000100\n",
      "0xa190e3c00000000004\n"
     ]
    }
   ],
   "source": [
    "insn = \"\"\n",
    "for i in range(128):\n",
    "    insn = insn + \"0\"\n",
    "    \n",
    "insn = list(insn)\n",
    "\n",
    "\n",
    "# insn_ram_in_address = \"000000000000\"\n",
    "# insn_ram_out_address = \"000000000000\"\n",
    "# insn_ram_in_mode = \"1\"\n",
    "# insn_ram_out_mode = \"01\"\n",
    "# insn_fpu = \"00000000000000001111\"\n",
    "# insn_compute_length = \"000000001010\"\n",
    "# insn_ram_data_in_mode = \"1\"\n",
    "# insn_ram_data_out_mode = \"1\"\n",
    "# insn_ram_para_address = \"00000\"\n",
    "# insn_mult_para = \"0\"\n",
    "# insn_para_stride = \"000000\"\n",
    "# insn_dequan_para = \"00000\"\n",
    "# insn_para_mode = \"0\"\n",
    "# insn_id = \"100\" \n",
    "\n",
    "##dequan\n",
    "# insn_data_ram_in_address = \"000000000000\"\n",
    "# insn_data_ram_out_address = \"000000000000\"\n",
    "# insn_para_ram_in_address = \"00000\"\n",
    "# insn_resadd_ram_in_address = \"0000000000\"\n",
    "# insn_fpu = \"00000000000000000001\"\n",
    "# insn_compute_length = \"001100010000\"\n",
    "# insn_ram_out_mode = \"10\"\n",
    "# insn_ram_data_in_type = \"0\"\n",
    "# insn_ram_data_out_type = \"0\"\n",
    "# insn_para_ram_valid = \"11\"\n",
    "# insn_mult_para = \"0\"\n",
    "# insn_resadd_ram_valid = \"0\"\n",
    "# insn_resadd_para_type = \"00\"\n",
    "# insn_fpu_work = \"0\"\n",
    "# insn_type = \"0\"\n",
    "# insn_para_stride = \"000000\"\n",
    "# insn_id = \"100\"\n",
    "\n",
    "##bias\n",
    "# insn_data_ram_in_address = \"000000000000\"\n",
    "# insn_data_ram_out_address = \"000000000000\"\n",
    "# insn_para_ram_in_address = \"00000\"\n",
    "# insn_resadd_ram_in_address = \"0000000000\"\n",
    "# insn_fpu = \"00000000000000000001\"\n",
    "# insn_compute_length = \"001100010000\"\n",
    "# insn_ram_out_mode = \"10\"\n",
    "# insn_ram_data_in_type = \"0\"\n",
    "# insn_ram_data_out_type = \"0\"\n",
    "# insn_para_ram_valid = \"10\"\n",
    "# insn_mult_para = \"0\"\n",
    "# insn_resadd_ram_valid = \"0\"\n",
    "# insn_resadd_para_type = \"00\"\n",
    "# insn_fpu_work = \"1\"\n",
    "# insn_type = \"0\"\n",
    "# insn_para_stride = \"000000\"\n",
    "# insn_id = \"100\"\n",
    "\n",
    "##resadd+sigmoid\n",
    "insn_data_ram_in_address = \"000000000000\"\n",
    "insn_data_ram_out_address = \"000000000000\"\n",
    "insn_para_ram_in_address = \"00000\"\n",
    "insn_resadd_ram_in_address = \"0000000000\"\n",
    "insn_fpu = \"00000000000000000101\"\n",
    "insn_compute_length = \"000011001000\"\n",
    "insn_ram_out_mode = \"01\"\n",
    "insn_ram_data_in_type = \"1\"\n",
    "insn_ram_data_out_type = \"1\"\n",
    "insn_para_ram_valid = \"00\"\n",
    "insn_mult_para = \"0\"\n",
    "insn_resadd_ram_valid = \"1\"\n",
    "insn_resadd_para_type = \"11\"\n",
    "insn_fpu_work = \"1\"\n",
    "insn_type = \"0\"\n",
    "insn_para_stride = \"000000\"\n",
    "insn_id = \"100\"\n",
    "\n",
    "insn[0:12] = insn_data_ram_in_address\n",
    "insn[12:24] = insn_data_ram_out_address\n",
    "insn[24:29] = insn_para_ram_in_address\n",
    "insn[29:39] = insn_resadd_ram_in_address\n",
    "insn[39:59] = insn_fpu\n",
    "insn[59:71] = insn_compute_length\n",
    "insn[71:73] = insn_ram_out_mode\n",
    "insn[73] = insn_ram_data_in_type\n",
    "insn[74] = insn_ram_data_out_type\n",
    "insn[75:77] = insn_para_ram_valid\n",
    "insn[77] = insn_mult_para\n",
    "insn[78] = insn_resadd_ram_valid\n",
    "insn[79:81] = insn_resadd_para_type\n",
    "insn[81] = insn_fpu_work\n",
    "insn[82] = insn_type\n",
    "insn[82:88] = insn_para_stride\n",
    "insn[125:128] = insn_id\n",
    "\n",
    "insn = \"\".join(insn)\n",
    "print(insn)\n",
    "insn = hex(int(insn,2))\n",
    "print(insn)\n"
   ]
  },
  {
   "cell_type": "code",
   "execution_count": 2,
   "id": "d8c9f344",
   "metadata": {},
   "outputs": [
    {
     "name": "stdout",
     "output_type": "stream",
     "text": [
      "0b111000000000000000001010000110001000110000000000000000000000000000000000000000000000000000000000000100\n"
     ]
    }
   ],
   "source": [
    "a = int(\"38000286230000000000000004\",16)\n",
    "print(bin(a))"
   ]
  },
  {
   "cell_type": "code",
   "execution_count": null,
   "id": "cdd61127",
   "metadata": {},
   "outputs": [],
   "source": []
  }
 ],
 "metadata": {
  "kernelspec": {
   "display_name": "Python 3",
   "language": "python",
   "name": "python3"
  },
  "language_info": {
   "codemirror_mode": {
    "name": "ipython",
    "version": 3
   },
   "file_extension": ".py",
   "mimetype": "text/x-python",
   "name": "python",
   "nbconvert_exporter": "python",
   "pygments_lexer": "ipython3",
   "version": "3.8.8"
  }
 },
 "nbformat": 4,
 "nbformat_minor": 5
}
